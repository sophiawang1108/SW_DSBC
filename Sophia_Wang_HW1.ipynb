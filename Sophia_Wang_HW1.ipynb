{
 "cells": [
  {
   "cell_type": "code",
   "execution_count": 1,
   "id": "ac83c3a1",
   "metadata": {},
   "outputs": [
    {
     "name": "stdout",
     "output_type": "stream",
     "text": [
      "[0, 1, 1, 2, 3, 5, 8, 13, 21, 34]\n"
     ]
    }
   ],
   "source": [
    "a =  0\n",
    "b = 1\n",
    "FS = [a, b]\n",
    "i = 1\n",
    "\n",
    "while i < 9:\n",
    "        a, b = b, a + b\n",
    "        FS.append(b)\n",
    "        i = i + 1\n",
    "\n",
    "print (FS)\n"
   ]
  },
  {
   "cell_type": "code",
   "execution_count": 8,
   "id": "3c35788d",
   "metadata": {},
   "outputs": [
    {
     "name": "stdout",
     "output_type": "stream",
     "text": [
      "0\n",
      "1\n",
      "3\n",
      "8\n",
      "21\n"
     ]
    }
   ],
   "source": [
    "for k in range(len(FS)):\n",
    "    if k%2 == 0:\n",
    "        print(FS[k])"
   ]
  },
  {
   "cell_type": "code",
   "execution_count": 11,
   "id": "2cc8ccdd",
   "metadata": {},
   "outputs": [
    {
     "name": "stdout",
     "output_type": "stream",
     "text": [
      "[34, 21, 13, 8, 5, 3, 2, 1, 1, 0]\n"
     ]
    }
   ],
   "source": [
    "r_FS = FS[::1]\n",
    "print(r_FS)"
   ]
  },
  {
   "cell_type": "code",
   "execution_count": 20,
   "id": "99a15fb0",
   "metadata": {},
   "outputs": [
    {
     "name": "stdout",
     "output_type": "stream",
     "text": [
      "47\n"
     ]
    }
   ],
   "source": [
    "\tstring = \"\"\"\n",
    "\tChatGPT has created this text to provide tips on creating interesting paragraphs. \n",
    "\tFirst, start with a clear topic sentence that introduces the main idea. \n",
    "\tThen, support the topic sentence with specific details, examples, and evidence.\n",
    "\tVary the sentence length and structure to keep the reader engaged.\n",
    "\tFinally, end with a strong concluding sentence that summarizes the main points.\n",
    "\tRemember, practice makes perfect!\n",
    "\t\"\"\"\n",
    "dfw = string.split()\n",
    "dfw1 = set(dfw)\n",
    "num_n = len(dfw1)\n",
    "print(num_n)"
   ]
  },
  {
   "cell_type": "code",
   "execution_count": 38,
   "id": "51a06eae",
   "metadata": {},
   "outputs": [
    {
     "name": "stdout",
     "output_type": "stream",
     "text": [
      "8\n"
     ]
    }
   ],
   "source": [
    "def a_func(inpu):\n",
    "    count1 = 0\n",
    "    for i in inpu:\n",
    "        if i in ['a','e','i','o','u','A','E','I','O','U']:\n",
    "            count1 += 1\n",
    "    return count1\n",
    "\n",
    "input11 = \"ILOVEYOUFOREVER\"\n",
    "\n",
    "print(a_func(input11))"
   ]
  },
  {
   "cell_type": "code",
   "execution_count": 42,
   "id": "b3cd7514",
   "metadata": {},
   "outputs": [
    {
     "name": "stdout",
     "output_type": "stream",
     "text": [
      "['TIGER', 'ELEPHANT', 'MONKEY', 'ZEBRA', 'PANTHER']\n"
     ]
    }
   ],
   "source": [
    "animals=['tiger', 'elephant', 'monkey', 'zebra', 'panther']\n",
    "c_animals = []\n",
    "for i in animals:\n",
    "    II = i.upper()\n",
    "    c_animals.append(II)\n",
    "print(c_animals)\n",
    "    "
   ]
  },
  {
   "cell_type": "code",
   "execution_count": 47,
   "id": "0aba17a4",
   "metadata": {},
   "outputs": [
    {
     "name": "stdout",
     "output_type": "stream",
     "text": [
      "1 odd\n",
      "2 even\n",
      "3 odd\n",
      "4 even\n",
      "5 odd\n",
      "6 even\n",
      "7 odd\n",
      "8 even\n",
      "9 odd\n",
      "10 even\n",
      "11 odd\n",
      "12 even\n",
      "13 odd\n",
      "14 even\n",
      "15 odd\n"
     ]
    }
   ],
   "source": [
    "for i in range(1,16):\n",
    "    if i%2 == 0:\n",
    "        print (i, 'even')\n",
    "    else:\n",
    "        print (i, 'odd')\n"
   ]
  },
  {
   "cell_type": "code",
   "execution_count": 50,
   "id": "ee0bacc8",
   "metadata": {},
   "outputs": [
    {
     "name": "stdout",
     "output_type": "stream",
     "text": [
      "1\n",
      "396\n",
      "397\n"
     ]
    }
   ],
   "source": [
    "a = int(input())\n",
    "b = int(input())\n",
    "sumss = a + b\n",
    "\n",
    "print(sumss)"
   ]
  },
  {
   "cell_type": "code",
   "execution_count": null,
   "id": "647bace7",
   "metadata": {},
   "outputs": [],
   "source": []
  }
 ],
 "metadata": {
  "kernelspec": {
   "display_name": "Python 3 (ipykernel)",
   "language": "python",
   "name": "python3"
  },
  "language_info": {
   "codemirror_mode": {
    "name": "ipython",
    "version": 3
   },
   "file_extension": ".py",
   "mimetype": "text/x-python",
   "name": "python",
   "nbconvert_exporter": "python",
   "pygments_lexer": "ipython3",
   "version": "3.11.3"
  }
 },
 "nbformat": 4,
 "nbformat_minor": 5
}
